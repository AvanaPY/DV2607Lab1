{
 "cells": [
  {
   "cell_type": "markdown",
   "metadata": {},
   "source": [
    "# Inlämningsuppgift: Del 2 - Adversarial input attack"
   ]
  },
  {
   "cell_type": "markdown",
   "metadata": {},
   "source": [
    "Emil Karlström \\\n",
    "emkl19@student.bth.se\n",
    "\n",
    "Samuel Jonsson \\\n",
    "sajs19@student.bth.se"
   ]
  },
  {
   "cell_type": "markdown",
   "metadata": {},
   "source": [
    "# Instruktioner"
   ]
  },
  {
   "cell_type": "markdown",
   "metadata": {},
   "source": [
    "Ändra notebookens platshållare så som era namn- och mailuppgifter samt instruktioner i de olika avsnitten. "
   ]
  },
  {
   "cell_type": "markdown",
   "metadata": {},
   "source": [
    "Notebookens underrubriker på nivå 3 (###) är bara ett enkelt exempel på hur er implementation kan delas upp. Ni bör skapa egna rubriker anpassade efter er implementation men lämna alla nivå 1 (#) och 2-rubriker (##) som de är. En viktig del inom data-science är att kunna presentera sina metoder och resultat på ett tydligt sätt. **En ostrukturerad och otydlig notebook kan påverka betygsättningen.**"
   ]
  },
  {
   "cell_type": "markdown",
   "metadata": {},
   "source": [
    "Notera att t.ex. hyperparameter-tuning och annan optimisering för prestanda inte är nödvändigt i denna uppgift. Så länge modellen fungerar märkvärt bättre än ett \"coin flip\" så räcker det att ni väljer era hyperparametrar manuellt."
   ]
  },
  {
   "cell_type": "markdown",
   "metadata": {},
   "source": [
    "# Uppgiften"
   ]
  },
  {
   "cell_type": "markdown",
   "metadata": {},
   "source": [
    "Uppgiften går ut på att göra så att bilden på koalan nedan klassificeras som en traktor istället. Givetvis ska bilden på koalan se helt oförändrad ut för det mänskliga ögat då attacken är genomförd. Nedan följer Pythonkod som läser in de båda bilderna som uppgiften bygger på samt läser in en ResNet50-modell som klassiciferar bilderna. Saknar ni några Python-paket, t.ex. TensorFlow så installera dem med en pakethanterarare, t.ex. pip"
   ]
  },
  {
   "cell_type": "markdown",
   "metadata": {},
   "source": [
    "## Beskrivning av adversarial input attacker"
   ]
  },
  {
   "cell_type": "markdown",
   "metadata": {},
   "source": [
    "Börja med att förklara vad denna typ av attacker är och hur de fungerar i rapportens sektion 2.1."
   ]
  },
  {
   "cell_type": "markdown",
   "metadata": {},
   "source": [
    "## Nedan följer kod för att läsa in bilderna och klassificera dem med ResNet50 modellen"
   ]
  },
  {
   "cell_type": "code",
   "execution_count": null,
   "metadata": {
    "ExecuteTime": {
     "end_time": "2022-09-26T08:32:18.958337Z",
     "start_time": "2022-09-26T08:32:12.641500Z"
    }
   },
   "outputs": [],
   "source": [
    "from matplotlib import pyplot as plt\n",
    "import numpy as np\n",
    "\n",
    "import tensorflow as tf\n",
    "from tensorflow.keras.applications.resnet50 import ResNet50, preprocess_input\n",
    "from tensorflow.keras.preprocessing import image\n",
    "\n",
    "from art.utils import to_categorical\n",
    "\n",
    "tf.compat.v1.disable_eager_execution()\n",
    "\n",
    "print(f\"TensorFlow: {tf.__version__}\")"
   ]
  },
  {
   "cell_type": "code",
   "execution_count": null,
   "metadata": {},
   "outputs": [],
   "source": [
    "# Loads the pretrained ResNet50 model\n",
    "model = ResNet50(weights='imagenet')"
   ]
  },
  {
   "cell_type": "code",
   "execution_count": null,
   "metadata": {
    "ExecuteTime": {
     "start_time": "2022-09-26T08:27:42.676Z"
    }
   },
   "outputs": [],
   "source": [
    "# Load the two images (koala & tractor)\n",
    "init_image = image.load_img(\"images/koala.jpeg\", target_size=(224, 224))\n",
    "init_image = image.img_to_array(init_image)\n",
    "\n",
    "target_image = image.load_img(\"images/tractor.jpeg\", target_size=(224, 224))\n",
    "target_image = image.img_to_array(target_image)\n",
    "\n",
    "class_lookup = {105: \"koala\", 866: \"tractor\"}"
   ]
  },
  {
   "cell_type": "code",
   "execution_count": null,
   "metadata": {},
   "outputs": [],
   "source": [
    "init_class_id = np.argmax(model.predict(np.array([init_image])))\n",
    "print(f\"Init image class label: {init_class_id} ({class_lookup[init_class_id]})\")\n",
    "plt.imshow(init_image.astype(np.uint))\n",
    "plt.show()\n",
    "\n",
    "target_class_id = np.argmax(model.predict(np.array([target_image])))\n",
    "print(f\"Target image class label: {target_class_id} ({class_lookup[target_class_id]})\")\n",
    "plt.imshow(target_image.astype(np.uint))\n",
    "plt.show()"
   ]
  },
  {
   "cell_type": "markdown",
   "metadata": {},
   "source": [
    "## Implementation av er attack"
   ]
  },
  {
   "cell_type": "markdown",
   "metadata": {},
   "source": [
    "Beskriv i er rapport vad just er valda attack kallas och i detalj hur den fungerar (sektion 2.2 i rapporten). Beskriv även kort vilka bibliotek ni använder för att implementera den."
   ]
  },
  {
   "cell_type": "markdown",
   "metadata": {},
   "source": [
    "## Er kod för attacken"
   ]
  },
  {
   "cell_type": "markdown",
   "metadata": {},
   "source": [
    "I cellerna nedan lägger ni in er egen kod för att genomföra attacken."
   ]
  },
  {
   "cell_type": "markdown",
   "metadata": {},
   "source": [
    "### Bibliotek"
   ]
  },
  {
   "cell_type": "code",
   "execution_count": null,
   "metadata": {},
   "outputs": [],
   "source": [
    "# Samla era import statements här e.g.\n",
    "# import matplotlib.pyplot as plt\n",
    "# import numpy as np\n",
    "# import pandas as pd\n",
    "# ...\n",
    "from art.estimators.classification import KerasClassifier\n",
    "from art.attacks.evasion import ProjectedGradientDescentNumpy"
   ]
  },
  {
   "cell_type": "markdown",
   "metadata": {},
   "source": [
    "### Egna funktioner"
   ]
  },
  {
   "cell_type": "code",
   "execution_count": null,
   "metadata": {},
   "outputs": [],
   "source": [
    "# Samla era egna funktioner relaterade till attacken här\n",
    "# Funktionerna ska kort beskrivas med docstrings och kommentarer så att man förstår syftet och implementationen\n",
    "# Blir det många bör ni bryta ut dessa i en separat fil"
   ]
  },
  {
   "cell_type": "markdown",
   "metadata": {},
   "source": [
    "### Förberedelser"
   ]
  },
  {
   "cell_type": "code",
   "execution_count": null,
   "metadata": {},
   "outputs": [],
   "source": [
    "# E.g. inläsning av modell och dataset\n",
    "\n",
    "keras_estimator = KerasClassifier(model, \n",
    "                            clip_values=(0,255))\n",
    "\n",
    "pogboi = ProjectedGradientDescentNumpy(\n",
    "    estimator=keras_estimator,\n",
    "    targeted=True,\n",
    "    eps=20,\n",
    "    eps_step=0.5,\n",
    "    max_iter=100,\n",
    "    random_eps=True,\n",
    "    batch_size=1024\n",
    ")"
   ]
  },
  {
   "cell_type": "markdown",
   "metadata": {},
   "source": [
    "### Attack"
   ]
  },
  {
   "cell_type": "markdown",
   "metadata": {},
   "source": [
    "Beskriv attackprocessen kortfattat här"
   ]
  },
  {
   "cell_type": "code",
   "execution_count": null,
   "metadata": {},
   "outputs": [],
   "source": [
    "# Attackutförande\n",
    "\n",
    "target_id = 866 # Tractor ??\n",
    "\n",
    "attack_image = init_image.reshape((1, 224, 224, 3))\n",
    "\n",
    "generated_attack_image = pogboi.generate(\n",
    "    x = attack_image, \n",
    "    y = np.array(target_id).reshape((1,)),\n",
    "    mask = np.array(1.).repeat(224*224*3).reshape((1,224,224,3))\n",
    "    )\n",
    "generated_attack_image = generated_attack_image"
   ]
  },
  {
   "cell_type": "markdown",
   "metadata": {},
   "source": [
    "### Attackresultat"
   ]
  },
  {
   "cell_type": "markdown",
   "metadata": {},
   "source": [
    "Summera och förklara era attackresultat i flytande text här"
   ]
  },
  {
   "cell_type": "code",
   "execution_count": null,
   "metadata": {},
   "outputs": [],
   "source": [
    "# Presentera attackens resultat m.h.a. kod här\n",
    "\n",
    "generated_preds = model.predict(generated_attack_image)\n",
    "generated_label = np.argmax(generated_preds)\n",
    "print(f\"Generated image class label: {generated_label} ({class_lookup[generated_label]}) ({(100*generated_preds[0][generated_label]):.2f}%)\")\n",
    "plt.imshow(generated_attack_image.reshape((224, 224, 3)).astype(np.uint))\n",
    "plt.title(f\"Generated image class label: {generated_label} ({class_lookup[generated_label]}) ({(100*generated_preds[0][generated_label]):.2f}%)\")\n",
    "plt.show()\n",
    "\n",
    "plt.imshow(init_image.astype(int))\n",
    "plt.title(\"Original image\")\n",
    "plt.show()\n"
   ]
  },
  {
   "cell_type": "markdown",
   "metadata": {},
   "source": [
    "## Skyddsåtgärder"
   ]
  },
  {
   "cell_type": "markdown",
   "metadata": {},
   "source": [
    "Beskriv (i rapportens sektion 2.3) vilka säkerhetsåtgärd(er) ni valt som lämpliga för att skydda mot er attack. Motivera varför ni valt just de(n) metod(erna)."
   ]
  },
  {
   "cell_type": "markdown",
   "metadata": {},
   "source": [
    "## Implementation av skyddsåtgärder (frivilligt endast för A eller B)"
   ]
  },
  {
   "cell_type": "markdown",
   "metadata": {},
   "source": [
    "Nedan fyller ni i er kod som implementerar skyddsmekanismen mot er attackmetod. Skriv även en summering av vad skyddsresultatet blev när ni implementerade metoden (beskriv detta i rapportens del 2.4)."
   ]
  },
  {
   "cell_type": "markdown",
   "metadata": {},
   "source": [
    "### Förberedelser"
   ]
  },
  {
   "cell_type": "code",
   "execution_count": null,
   "metadata": {},
   "outputs": [],
   "source": [
    "# E.g. skapande av ny modell, etc.\n",
    "from art.defences.preprocessor import JpegCompression\n",
    "jpeg_compressor = JpegCompression(clip_values=(0,255), quality=60)\n"
   ]
  },
  {
   "cell_type": "markdown",
   "metadata": {},
   "source": [
    "### Skydd"
   ]
  },
  {
   "cell_type": "markdown",
   "metadata": {},
   "source": [
    "Beskriv säkerhetsåtgärden kortfattat här"
   ]
  },
  {
   "cell_type": "code",
   "execution_count": null,
   "metadata": {},
   "outputs": [],
   "source": [
    "# Implementation av skyddsåtgärd\n",
    "# https://adversarial-robustness-toolbox.readthedocs.io/en/latest/modules/defences/preprocessor.html#jpeg-compression\n",
    "\n",
    "# Tanken är att vi använder oss av JPEG kompression för att sprida ut \n",
    "# de attackerade pixlarna över flera pixlar för att minska dess effekt\n",
    "# på modellen :)\n",
    "generated_jpeg = np.array(jpeg_compressor(generated_attack_image)[0])"
   ]
  },
  {
   "cell_type": "markdown",
   "metadata": {},
   "source": [
    "### Skyddsresultat"
   ]
  },
  {
   "cell_type": "markdown",
   "metadata": {},
   "source": [
    "Bevisa och förklara era skyddsresultat i flytande text här"
   ]
  },
  {
   "cell_type": "code",
   "execution_count": null,
   "metadata": {},
   "outputs": [],
   "source": [
    "# Presentera skyddåtgärdens resultat m.h.a. kod här\n",
    "\n",
    "# Predict the label\n",
    "preds_jpeg = model.predict(generated_jpeg)\n",
    "label_jpeg = np.argmax(preds_jpeg)\n",
    "\n",
    "# Plot the image\n",
    "plt.imshow(generated_jpeg.reshape((224, 224, 3)).astype(np.uint))\n",
    "plt.title(f\"JPEG Compressed label: {label_jpeg} ({class_lookup[label_jpeg]}) ({(100*preds_jpeg[0][label_jpeg]):.2f}%)\")\n",
    "plt.show()\n",
    "\n",
    "plt.imshow(generated_attack_image.reshape((224, 224, 3)).astype(np.uint))\n",
    "plt.title(f\"Generated image class label: {generated_label} ({class_lookup[generated_label]}) ({(100*generated_preds[0][generated_label]):.2f}%)\")\n",
    "plt.show()\n",
    "\n",
    "plt.imshow(init_image.astype(int))\n",
    "plt.title(\"Original image\")\n",
    "plt.show()\n",
    "\n",
    "# Och det fungerar faktiskt ganska bra :^)"
   ]
  },
  {
   "cell_type": "markdown",
   "metadata": {},
   "source": [
    "# Referenser"
   ]
  },
  {
   "cell_type": "markdown",
   "metadata": {},
   "source": [
    "\n",
    "1. Föreläsningar i kursen\n",
    "2. https://adversarial-robustness-toolbox.readthedocs.io/en/latest/modules/attacks/evasion.html#projected-gradient-descent-pgd-numpy\n",
    "3. https://adversarial-robustness-toolbox.readthedocs.io/en/latest/modules/defences/preprocessor.html#jpeg-compression"
   ]
  }
 ],
 "metadata": {
  "kernelspec": {
   "display_name": "Python 3 (ipykernel)",
   "language": "python",
   "name": "python3"
  },
  "language_info": {
   "codemirror_mode": {
    "name": "ipython",
    "version": 3
   },
   "file_extension": ".py",
   "mimetype": "text/x-python",
   "name": "python",
   "nbconvert_exporter": "python",
   "pygments_lexer": "ipython3",
   "version": "3.8.10"
  },
  "toc": {
   "base_numbering": 1,
   "nav_menu": {},
   "number_sections": true,
   "sideBar": true,
   "skip_h1_title": false,
   "title_cell": "Table of Contents",
   "title_sidebar": "Contents",
   "toc_cell": false,
   "toc_position": {},
   "toc_section_display": true,
   "toc_window_display": false
  },
  "varInspector": {
   "cols": {
    "lenName": 16,
    "lenType": 16,
    "lenVar": 40
   },
   "kernels_config": {
    "python": {
     "delete_cmd_postfix": "",
     "delete_cmd_prefix": "del ",
     "library": "var_list.py",
     "varRefreshCmd": "print(var_dic_list())"
    },
    "r": {
     "delete_cmd_postfix": ") ",
     "delete_cmd_prefix": "rm(",
     "library": "var_list.r",
     "varRefreshCmd": "cat(var_dic_list()) "
    }
   },
   "types_to_exclude": [
    "module",
    "function",
    "builtin_function_or_method",
    "instance",
    "_Feature"
   ],
   "window_display": false
  },
  "vscode": {
   "interpreter": {
    "hash": "0e87e2d3f420682cd2e40f44fba570c74d8004ee8104ac1f059bbc7fd8077547"
   }
  }
 },
 "nbformat": 4,
 "nbformat_minor": 4
}
